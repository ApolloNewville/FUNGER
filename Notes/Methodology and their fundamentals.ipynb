{
 "cells": [
  {
   "cell_type": "markdown",
   "id": "eb99f692",
   "metadata": {},
   "source": [
    "# Documentary cleaning and transformation file\n",
    "The purpose of this file is to documentary all processes writing the justification and the implemented methodology.\n",
    "\n",
    "# Importation of libraries\n",
    "The following up libraries are the ones I used for this analysis:\n",
    "- Pandas\n",
    "- CSV\n",
    "- JSON\n",
    "- Pathlib (Path module)"
   ]
  },
  {
   "cell_type": "code",
   "execution_count": null,
   "id": "bdc9dea1",
   "metadata": {},
   "outputs": [],
   "source": [
    "import pandas as pd\n",
    "import csv\n",
    "import json\n",
    "from pathlib import Path"
   ]
  },
  {
   "cell_type": "markdown",
   "id": "67699bec",
   "metadata": {},
   "source": [
    "# What are the files of interest (fi)\n",
    "\n",
    "I consider 'Enemies', 'Items', 'Armour' and 'Characters' as the files of interes to understand how the game works and then take advantage of it.\n",
    "\n",
    "This is the proposed workflow:\n",
    "\n",
    "1. Importation of fi.\n",
    "2. Convert fi into dataframes(df).\n",
    "3. Analysis, cleaning useful data.\n",
    "4. Exportation to PostgreSQL databases."
   ]
  },
  {
   "cell_type": "code",
   "execution_count": 3,
   "id": "d816b201",
   "metadata": {},
   "outputs": [],
   "source": [
    "import pandas as pd\n",
    "import json"
   ]
  }
 ],
 "metadata": {
  "kernelspec": {
   "display_name": "scraping_competidores",
   "language": "python",
   "name": "python3"
  },
  "language_info": {
   "codemirror_mode": {
    "name": "ipython",
    "version": 3
   },
   "file_extension": ".py",
   "mimetype": "text/x-python",
   "name": "python",
   "nbconvert_exporter": "python",
   "pygments_lexer": "ipython3",
   "version": "3.11.13"
  }
 },
 "nbformat": 4,
 "nbformat_minor": 5
}
