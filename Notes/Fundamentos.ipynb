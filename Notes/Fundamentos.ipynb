{
 "cells": [
  {
   "cell_type": "markdown",
   "id": "d415162d",
   "metadata": {},
   "source": [
    "# 1. Create a list having the names of all files of interest"
   ]
  },
  {
   "cell_type": "code",
   "execution_count": 7,
   "id": "81f3a54c",
   "metadata": {},
   "outputs": [],
   "source": [
    "import pandas as pd\n",
    "import json\n",
    "from pathlib import Path"
   ]
  },
  {
   "cell_type": "markdown",
   "id": "17ac3125",
   "metadata": {},
   "source": [
    "The files of interes (fi) have the next strings as name:\n",
    "1. Items\n",
    "2. Armour\n",
    "3. Characters\n",
    "4. Enemies"
   ]
  },
  {
   "cell_type": "code",
   "execution_count": null,
   "id": "e38a71da",
   "metadata": {},
   "outputs": [],
   "source": [
    "# Here I create the list of the names of the files we are interested on.\n",
    "\n",
    "fi = [\"Items\",\"Armour\",\"Characters\",\"Enemies\"]\n",
    "\n",
    "# Path of data\n",
    "folder = Path(r\"Data\")\n",
    "\n",
    "# Iteration to select file\n",
    "\n",
    "file for file in folder:\n",
    "    \n"
   ]
  },
  {
   "cell_type": "code",
   "execution_count": null,
   "id": "2adfa19e",
   "metadata": {},
   "outputs": [],
   "source": []
  }
 ],
 "metadata": {
  "kernelspec": {
   "display_name": "scraping_competidores",
   "language": "python",
   "name": "python3"
  },
  "language_info": {
   "codemirror_mode": {
    "name": "ipython",
    "version": 3
   },
   "file_extension": ".py",
   "mimetype": "text/x-python",
   "name": "python",
   "nbconvert_exporter": "python",
   "pygments_lexer": "ipython3",
   "version": "3.11.13"
  }
 },
 "nbformat": 4,
 "nbformat_minor": 5
}
